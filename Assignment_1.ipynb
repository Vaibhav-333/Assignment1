{
 "cells": [
  {
   "cell_type": "raw",
   "id": "d74177f3",
   "metadata": {},
   "source": [
    "1. Create one variable containing following type of data:\n",
    "(i) string\n",
    "(ii) list\n",
    "(iii) float\n",
    "(iv) tuple"
   ]
  },
  {
   "cell_type": "code",
   "execution_count": 3,
   "id": "a99787e3",
   "metadata": {},
   "outputs": [
    {
     "name": "stdout",
     "output_type": "stream",
     "text": [
      "string\n"
     ]
    }
   ],
   "source": [
    "x = \"string\"\n",
    "print(x)"
   ]
  },
  {
   "cell_type": "code",
   "execution_count": 4,
   "id": "d878e00a",
   "metadata": {},
   "outputs": [
    {
     "name": "stdout",
     "output_type": "stream",
     "text": [
      "['pen', 'laptop', 'scale', 'books']\n"
     ]
    }
   ],
   "source": [
    "stationery_list = ['pen','laptop','scale','books']\n",
    "print(stationery_list)"
   ]
  },
  {
   "cell_type": "code",
   "execution_count": 6,
   "id": "0fb41e6e",
   "metadata": {},
   "outputs": [
    {
     "name": "stdout",
     "output_type": "stream",
     "text": [
      "65.65\n"
     ]
    }
   ],
   "source": [
    "float_num = 65.65\n",
    "print(float_num)"
   ]
  },
  {
   "cell_type": "code",
   "execution_count": 25,
   "id": "07953a49",
   "metadata": {},
   "outputs": [
    {
     "name": "stdout",
     "output_type": "stream",
     "text": [
      "(1, 2, 3, 4)\n"
     ]
    }
   ],
   "source": [
    "tuple_num = (1, 2, 3, 4)\n",
    "print(tuple_num)"
   ]
  },
  {
   "cell_type": "raw",
   "id": "36fde95f",
   "metadata": {},
   "source": [
    "2. Given are some following variables containing data:\n",
    "(i) var1 = ''\n",
    "(ii) var2 = '[DS, ML, Python]'\n",
    "(iii) var3 = ['DS','ML','Python']\n",
    "(iv) var4 = 1.\n",
    "what will be the data types of the above given variable."
   ]
  },
  {
   "cell_type": "code",
   "execution_count": 7,
   "id": "a086eb89",
   "metadata": {},
   "outputs": [
    {
     "data": {
      "text/plain": [
       "str"
      ]
     },
     "execution_count": 7,
     "metadata": {},
     "output_type": "execute_result"
    }
   ],
   "source": [
    "var1 = ''\n",
    "type(var1)"
   ]
  },
  {
   "cell_type": "code",
   "execution_count": 8,
   "id": "2b7ccc6b",
   "metadata": {},
   "outputs": [
    {
     "data": {
      "text/plain": [
       "str"
      ]
     },
     "execution_count": 8,
     "metadata": {},
     "output_type": "execute_result"
    }
   ],
   "source": [
    "var2 = '[DS, ML, Python]'\n",
    "type(var2)"
   ]
  },
  {
   "cell_type": "code",
   "execution_count": 9,
   "id": "b66f5412",
   "metadata": {},
   "outputs": [
    {
     "data": {
      "text/plain": [
       "list"
      ]
     },
     "execution_count": 9,
     "metadata": {},
     "output_type": "execute_result"
    }
   ],
   "source": [
    "var3 = ['DS','ML','Python']\n",
    "type(var3)"
   ]
  },
  {
   "cell_type": "code",
   "execution_count": 10,
   "id": "e39ae331",
   "metadata": {},
   "outputs": [
    {
     "data": {
      "text/plain": [
       "float"
      ]
     },
     "execution_count": 10,
     "metadata": {},
     "output_type": "execute_result"
    }
   ],
   "source": [
    "var4 = 1.\n",
    "type(var4)"
   ]
  },
  {
   "cell_type": "raw",
   "id": "ea187839",
   "metadata": {},
   "source": [
    "3. Explain the use of the following operators using an examples\n",
    "(i) /\n",
    "(ii) %\n",
    "(iii) //\n",
    "(iv) **"
   ]
  },
  {
   "cell_type": "code",
   "execution_count": 11,
   "id": "54b7eadb",
   "metadata": {},
   "outputs": [
    {
     "data": {
      "text/plain": [
       "229.66666666666666"
      ]
     },
     "execution_count": 11,
     "metadata": {},
     "output_type": "execute_result"
    }
   ],
   "source": [
    "# The divsion operator (/) is used to divide 2 operands\n",
    "689 / 3"
   ]
  },
  {
   "cell_type": "code",
   "execution_count": 12,
   "id": "9cb95537",
   "metadata": {},
   "outputs": [
    {
     "data": {
      "text/plain": [
       "1"
      ]
     },
     "execution_count": 12,
     "metadata": {},
     "output_type": "execute_result"
    }
   ],
   "source": [
    "# The modulo operator (%) gives the remainder when an operand divides the other operand\n",
    "37 % 6"
   ]
  },
  {
   "cell_type": "code",
   "execution_count": 21,
   "id": "cd95e55a",
   "metadata": {},
   "outputs": [
    {
     "data": {
      "text/plain": [
       "-2"
      ]
     },
     "execution_count": 21,
     "metadata": {},
     "output_type": "execute_result"
    }
   ],
   "source": [
    "# The floor division operator (//) always returns an integer value by discarding the fractional part of a number\n",
    "-3 // 2 "
   ]
  },
  {
   "cell_type": "code",
   "execution_count": 20,
   "id": "c94e563a",
   "metadata": {},
   "outputs": [
    {
     "data": {
      "text/plain": [
       "1"
      ]
     },
     "execution_count": 20,
     "metadata": {},
     "output_type": "execute_result"
    }
   ],
   "source": [
    "3 // 2"
   ]
  },
  {
   "cell_type": "code",
   "execution_count": 22,
   "id": "71bfd472",
   "metadata": {},
   "outputs": [
    {
     "data": {
      "text/plain": [
       "8"
      ]
     },
     "execution_count": 22,
     "metadata": {},
     "output_type": "execute_result"
    }
   ],
   "source": [
    "# The (**) operator raised an operand to the power of some value\n",
    "2 ** 3"
   ]
  },
  {
   "cell_type": "raw",
   "id": "f93854ed",
   "metadata": {},
   "source": [
    "4. Create a list of length 10 of your choice containing multiple types of data. Using a for loop print the element and its data type"
   ]
  },
  {
   "cell_type": "code",
   "execution_count": 31,
   "id": "8502fe70",
   "metadata": {},
   "outputs": [
    {
     "name": "stdout",
     "output_type": "stream",
     "text": [
      "The data type of 1 is: \n",
      "<class 'int'>\n",
      "The data type of 2.24 is: \n",
      "<class 'float'>\n",
      "The data type of 0 is: \n",
      "<class 'int'>\n",
      "The data type of True is: \n",
      "<class 'bool'>\n",
      "The data type of (3+4j) is: \n",
      "<class 'complex'>\n",
      "The data type of Ice is: \n",
      "<class 'str'>\n",
      "The data type of Campbell Biology is: \n",
      "<class 'str'>\n",
      "The data type of 7.8 is: \n",
      "<class 'float'>\n",
      "The data type of 89 is: \n",
      "<class 'int'>\n",
      "The data type of -68.0 is: \n",
      "<class 'float'>\n"
     ]
    }
   ],
   "source": [
    "l = [1, 2.24, 0, True, 3 + 4j, 'Ice', 'Campbell Biology', 7.8, 89, -68.0]\n",
    "for i in l :\n",
    "    print(f'The data type of {i} is: ')\n",
    "    print(type(i))\n",
    "    "
   ]
  },
  {
   "cell_type": "raw",
   "id": "11cdb354",
   "metadata": {},
   "source": [
    "5. Using a while loop, verify if the number A is purely divisible by number B and if so the how many times it can be divisible"
   ]
  },
  {
   "cell_type": "code",
   "execution_count": 37,
   "id": "66e6e552",
   "metadata": {},
   "outputs": [
    {
     "name": "stdout",
     "output_type": "stream",
     "text": [
      "Enter the dividend: 36\n",
      "Enter the divisor: 3\n",
      "A is divisible by B 2 times.\n"
     ]
    }
   ],
   "source": [
    "A = int(input('Enter the dividend: '))\n",
    "B = int(input('Enter the divisor: '))\n",
    "\n",
    "count = 0   \n",
    "while (A % B == 0):\n",
    "    A = A / B\n",
    "    count += 1\n",
    "    \n",
    "if count > 0:\n",
    "    print(\"A is divisible by B\",count,\"times.\")\n",
    "else:\n",
    "    print(\"A is not divisible by B\")\n"
   ]
  },
  {
   "cell_type": "raw",
   "id": "0c40b51f",
   "metadata": {},
   "source": [
    "6. Create a list containing 25 int type data. Using for loop and if-else condition print if the element is divisible by 3 or not."
   ]
  },
  {
   "cell_type": "code",
   "execution_count": 33,
   "id": "080ee2c3",
   "metadata": {},
   "outputs": [
    {
     "name": "stdout",
     "output_type": "stream",
     "text": [
      "2 is not divisible by 3\n",
      "54 is divisible by 3\n",
      "27 is divisible by 3\n",
      "15 is divisible by 3\n",
      "17 is not divisible by 3\n",
      "18 is divisible by 3\n",
      "9 is divisible by 3\n",
      "3 is divisible by 3\n",
      "99 is divisible by 3\n",
      "23 is not divisible by 3\n",
      "45 is divisible by 3\n",
      "56 is not divisible by 3\n",
      "89 is not divisible by 3\n",
      "0 is divisible by 3\n",
      "25 is not divisible by 3\n",
      "36 is divisible by 3\n",
      "66 is divisible by 3\n",
      "98 is not divisible by 3\n",
      "21 is divisible by 3\n",
      "7 is not divisible by 3\n",
      "20 is not divisible by 3\n",
      "13 is not divisible by 3\n",
      "41 is not divisible by 3\n",
      "46 is not divisible by 3\n",
      "76 is not divisible by 3\n",
      "999 is divisible by 3\n"
     ]
    }
   ],
   "source": [
    "num_list = [2, 54, 27, 15, 17, 18, 9, 3, 99, 23, 45, 56, 89, 0, 25, 36, 66, 98, 21, 7, 20, 13, 41, 46, 76, 999]\n",
    "for i in num_list :\n",
    "    if (i % 3 == 0):\n",
    "        print(f'{i} is divisible by 3')\n",
    "    else :\n",
    "        print(f'{i} is not divisible by 3')\n",
    "            "
   ]
  },
  {
   "cell_type": "raw",
   "id": "9e5ec0dc",
   "metadata": {},
   "source": [
    "7. What do you understand about mutable and immutable data types? Give examples for both showing this property."
   ]
  },
  {
   "cell_type": "raw",
   "id": "3778efe7",
   "metadata": {},
   "source": [
    "Mutability and Immutability \n",
    "An object whose internal state (data) can be changed is called a Mutable object. Similarly, an object whose internal state (data) can not be changed is called an Immutable object.\n",
    "Mutable - \n",
    "Lists,\n",
    "Sets,\n",
    "Dictionaries\n",
    "\n",
    "Immutable:\n",
    "Numbers (int, float, decimal, boolean etc.),\n",
    "Strings,\n",
    "Tuples,\n",
    "Frozen Sets"
   ]
  },
  {
   "cell_type": "code",
   "execution_count": 34,
   "id": "44456745",
   "metadata": {},
   "outputs": [
    {
     "name": "stdout",
     "output_type": "stream",
     "text": [
      "['Apple', 'Pineapple', 'Ice Apple', 'Sugar Apple', 'Green Apple']\n",
      "['Doctor', 'Pineapple', 'Ice Apple', 'Sugar Apple', 'Green Apple']\n"
     ]
    }
   ],
   "source": [
    "Fruit_list = ['Apple','Pineapple','Ice Apple','Sugar Apple','Green Apple']  # Mutable\n",
    "print(Fruit_list)\n",
    "Fruit_list[0] = 'Doctor'\n",
    "print(Fruit_list)"
   ]
  },
  {
   "cell_type": "code",
   "execution_count": 35,
   "id": "ed6df665",
   "metadata": {},
   "outputs": [
    {
     "ename": "NameError",
     "evalue": "name 'o' is not defined",
     "output_type": "error",
     "traceback": [
      "\u001b[1;31m---------------------------------------------------------------------------\u001b[0m",
      "\u001b[1;31mNameError\u001b[0m                                 Traceback (most recent call last)",
      "\u001b[1;32m~\\AppData\\Local\\Temp\\ipykernel_12600\\894470245.py\u001b[0m in \u001b[0;36m<module>\u001b[1;34m\u001b[0m\n\u001b[0;32m      1\u001b[0m \u001b[0mz\u001b[0m \u001b[1;33m=\u001b[0m \u001b[1;34m'Karthik'\u001b[0m\u001b[1;33m\u001b[0m\u001b[1;33m\u001b[0m\u001b[0m\n\u001b[1;32m----> 2\u001b[1;33m \u001b[0mz\u001b[0m\u001b[1;33m[\u001b[0m\u001b[1;36m0\u001b[0m\u001b[1;33m]\u001b[0m \u001b[1;33m=\u001b[0m \u001b[0mo\u001b[0m\u001b[1;33m\u001b[0m\u001b[1;33m\u001b[0m\u001b[0m\n\u001b[0m",
      "\u001b[1;31mNameError\u001b[0m: name 'o' is not defined"
     ]
    }
   ],
   "source": [
    "z = 'Karthik' #immutable\n",
    "z[0] = o"
   ]
  }
 ],
 "metadata": {
  "kernelspec": {
   "display_name": "Python 3 (ipykernel)",
   "language": "python",
   "name": "python3"
  },
  "language_info": {
   "codemirror_mode": {
    "name": "ipython",
    "version": 3
   },
   "file_extension": ".py",
   "mimetype": "text/x-python",
   "name": "python",
   "nbconvert_exporter": "python",
   "pygments_lexer": "ipython3",
   "version": "3.9.13"
  }
 },
 "nbformat": 4,
 "nbformat_minor": 5
}
